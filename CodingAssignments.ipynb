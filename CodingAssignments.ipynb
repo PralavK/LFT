{
 "cells": [
  {
   "cell_type": "markdown",
   "metadata": {},
   "source": [
    "Question 1:\n",
    "    BinaryGap"
   ]
  },
  {
   "cell_type": "code",
   "execution_count": 7,
   "metadata": {},
   "outputs": [
    {
     "data": {
      "text/plain": [
       "2"
      ]
     },
     "execution_count": 7,
     "metadata": {},
     "output_type": "execute_result"
    }
   ],
   "source": [
    "def binarygap(N):\n",
    "    begin = 0 # to keep tracks of new 1s\n",
    "    intime = 0 # counts the current strings of 0s\n",
    "    greatestgap = 0 # for the biggest len of 0s\n",
    "    \n",
    "    '''Using bit length of the given integer to start the loop'''\n",
    "    \n",
    "    for num in range(N.bit_length()):\n",
    "        if N & 1:  # this gives us if the bitwise operator yields 1\n",
    "            if begin == 0:\n",
    "                begin = 1 # initiates the flag \n",
    "            elif begin == 1:\n",
    "                if greatestgap < intime: \n",
    "                    greatestgap = intime # resets the current strings of zero\n",
    "                    intime = 0\n",
    "                else:\n",
    "                    intime = 0\n",
    "                    \n",
    "                    \n",
    "        else: # if N & 1 gives 0, starts counting zeros by incrimenting intime\n",
    "            if begin ==1:\n",
    "                intime = intime + 1\n",
    "        N = N>>1 # bitwise shifting of the binary representation to the right, to check for another 1s\n",
    "            \n",
    "    return greatestgap\n",
    "binarygap(9)"
   ]
  },
  {
   "cell_type": "markdown",
   "metadata": {},
   "source": [
    "Question 2:\n",
    "    Array Rotation"
   ]
  },
  {
   "cell_type": "code",
   "execution_count": 8,
   "metadata": {},
   "outputs": [
    {
     "data": {
      "text/plain": [
       "[2, 3, 4, 5, 6, 7, 1]"
      ]
     },
     "execution_count": 8,
     "metadata": {},
     "output_type": "execute_result"
    }
   ],
   "source": [
    "def rotate(A,  k):\n",
    "    \n",
    "    \n",
    "    '''The negative k value denotes the index it splits the array and shifts it  '''\n",
    "    \n",
    "    A1 = A[-k:] + A[0: -k]\n",
    "    \n",
    "    return A1 \n",
    "    \n",
    "rotate([1,2,3, 4, 5, 6,7], 6)"
   ]
  },
  {
   "cell_type": "markdown",
   "metadata": {},
   "source": [
    "Question 3:\n",
    "    Odd number Out"
   ]
  },
  {
   "cell_type": "code",
   "execution_count": 9,
   "metadata": {},
   "outputs": [
    {
     "data": {
      "text/plain": [
       "9"
      ]
     },
     "execution_count": 9,
     "metadata": {},
     "output_type": "execute_result"
    }
   ],
   "source": [
    "def oddnum( N, n): \n",
    "    \n",
    "      \n",
    "    result = N[0] \n",
    "      \n",
    "     \n",
    "    for i in range(1,n): \n",
    "        result = result ^ N[i] # Does XOR bit operations of all elements, and chages initial result value\n",
    "                               # Every integers cancels out except the one unpaired one\n",
    "      \n",
    "    return result\n",
    "oddnum([2, 3, 5, 4, 5, 3, 4, 2,1,1,9], 11)"
   ]
  },
  {
   "cell_type": "markdown",
   "metadata": {},
   "source": [
    "Question 4:\n",
    "    Smallest missing number"
   ]
  },
  {
   "cell_type": "code",
   "execution_count": 10,
   "metadata": {},
   "outputs": [
    {
     "data": {
      "text/plain": [
       "6"
      ]
     },
     "execution_count": 10,
     "metadata": {},
     "output_type": "execute_result"
    }
   ],
   "source": [
    "Val = [-2,-1, 0,1, 2,3,4,5,7,8]\n",
    "\n",
    "def smallest(S):\n",
    "    '''Making a set without using the inbuilt set function'''\n",
    "    X = []\n",
    "    for i in S:\n",
    "    \n",
    "        if i not in X:\n",
    "            X = X + [i]\n",
    "    result = 1 # returns 1 if the following loops doesnot work \n",
    "    for x in X: \n",
    "        if result in X:  #Compares every elements with 1, if found adds 1 to it.\n",
    "            result = result + 1 \n",
    "    return result\n",
    "        \n",
    "smallest(Val)        \n"
   ]
  },
  {
   "cell_type": "code",
   "execution_count": null,
   "metadata": {},
   "outputs": [],
   "source": []
  }
 ],
 "metadata": {
  "kernelspec": {
   "display_name": "Python 3",
   "language": "python",
   "name": "python3"
  },
  "language_info": {
   "codemirror_mode": {
    "name": "ipython",
    "version": 3
   },
   "file_extension": ".py",
   "mimetype": "text/x-python",
   "name": "python",
   "nbconvert_exporter": "python",
   "pygments_lexer": "ipython3",
   "version": "3.7.0"
  }
 },
 "nbformat": 4,
 "nbformat_minor": 2
}
