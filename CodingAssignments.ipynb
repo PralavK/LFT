{
 "cells": [
  {
   "cell_type": "markdown",
   "metadata": {},
   "source": [
    "Question 1:\n",
    "    BinaryGap"
   ]
  },
  {
   "cell_type": "code",
   "execution_count": 4,
   "metadata": {},
   "outputs": [
    {
     "name": "stdout",
     "output_type": "stream",
     "text": [
      "0\n"
     ]
    }
   ],
   "source": [
    "def binarygap(N):\n",
    "    '''Since the bin function returns binary representation of an integer with an added '0b'\n",
    "    at the end, so using indexing to remove it'''\n",
    "    \n",
    "    N1 = bin(N)[2:]\n",
    "    \n",
    "    \n",
    "    '''Spliting on 1, and if the binary digits ends with 0, ignoring it with another index slicing. Returning the max length \n",
    "    with zeros'''\n",
    "    \n",
    "    if N1[-1]=='0':\n",
    "        N2 = N1.split(\"1\")[0:-1]\n",
    "        return len(max(N2))\n",
    "    \n",
    "    \n",
    "    else:\n",
    "        N3 = len(max(N1.split('1')))\n",
    "        return N3\n",
    "          \n",
    "        \n",
    "            \n",
    "print(binarygap(15))"
   ]
  },
  {
   "cell_type": "markdown",
   "metadata": {},
   "source": [
    "Question 2:\n",
    "    Array Rotation"
   ]
  },
  {
   "cell_type": "code",
   "execution_count": 10,
   "metadata": {},
   "outputs": [
    {
     "data": {
      "text/plain": [
       "[4, 5, 6, 7, 1, 2, 3]"
      ]
     },
     "execution_count": 10,
     "metadata": {},
     "output_type": "execute_result"
    }
   ],
   "source": [
    "def rotate(A,  k):\n",
    "    N = len(A)\n",
    "    '''If the length of the array is equal to k, it returns the same array'''\n",
    "    if N == k:\n",
    "        return A\n",
    "    \n",
    "    '''The len(array) + k == index which gives the index that the slicing should occur.\n",
    "    And using it slice the array.'''\n",
    "    \n",
    "    A1 = A[len(A)-k:] + A[0:len(A) - k]\n",
    "    \n",
    "    return A1 \n",
    "    \n",
    "rotate([1,2,3, 4, 5, 6,7], 4)"
   ]
  },
  {
   "cell_type": "markdown",
   "metadata": {},
   "source": [
    "Question 3:\n",
    "    Odd number Out"
   ]
  },
  {
   "cell_type": "code",
   "execution_count": 45,
   "metadata": {},
   "outputs": [
    {
     "data": {
      "text/plain": [
       "200001"
      ]
     },
     "execution_count": 45,
     "metadata": {},
     "output_type": "execute_result"
    }
   ],
   "source": [
    "#Making an array of len(100001).\n",
    "#Multiplying C by 2 so that every element is doubled and adding -1.\n",
    "\n",
    "C = list(range(1,100001))\n",
    "#len(C)\n",
    "C = C*2\n",
    "d=[-1]\n",
    "C.extend(d)\n",
    "len(C)"
   ]
  },
  {
   "cell_type": "code",
   "execution_count": 126,
   "metadata": {},
   "outputs": [
    {
     "data": {
      "text/plain": [
       "-1"
      ]
     },
     "execution_count": 126,
     "metadata": {},
     "output_type": "execute_result"
    }
   ],
   "source": [
    "def oddnum(C):\n",
    "    '''Making a dictionary to count the number of occurences of the integers  '''   \n",
    "    j={}\n",
    "    \n",
    "    '''Looping through the array and counting every interger'''\n",
    "\n",
    "    for i in C:\n",
    "        if i in j:\n",
    "            j[i] = j[i] + 1\n",
    "        else:\n",
    "            j[i] = 1\n",
    "    '''Going through the dictinary key values to return the key whose value is 1, since every integers have value 2'''\n",
    "        \n",
    "    for p, v in j.items():\n",
    "        if v == 1:\n",
    "            return (p)\n",
    "        \n",
    "        \n",
    "            \n",
    "            \n",
    "    #return j\n",
    "        \n",
    "        \n",
    "oddnum(C)"
   ]
  },
  {
   "cell_type": "markdown",
   "metadata": {},
   "source": [
    "Question 4:\n",
    "    Smallest missing number"
   ]
  },
  {
   "cell_type": "code",
   "execution_count": 195,
   "metadata": {},
   "outputs": [
    {
     "name": "stdout",
     "output_type": "stream",
     "text": [
      "10\n"
     ]
    }
   ],
   "source": [
    "def smallest(S):\n",
    "    '''Finding the maximum value in the array'''\n",
    "    #maxi = max(S)\n",
    "    \n",
    "    S = sorted(S) \n",
    "    '''Eliminating negative numbers and zero so it returns 1'''\n",
    "    if S[0]<= 0 and S[-1] <= 0:\n",
    "        return 1\n",
    "    \n",
    "    li1 = []\n",
    "    '''Appending a list which consists of integers from 1 to maximum, eliminating negative and zero '''\n",
    "    for i in range(1, len(Z)+1):\n",
    "        li1.append(i)\n",
    "        \n",
    "    '''If the given array contains consecutive number'''\n",
    "    if len(S) == len(li1):\n",
    "        return (S[-1]+1)\n",
    "    \n",
    "    '''Looping through the list and comparing with the given array '''\n",
    "    \n",
    "    for item in li1:\n",
    "        \n",
    "        '''As soon as it finds the mismatch, it returns the integer and quickly terminates \n",
    "        the loop with the break statement'''\n",
    "        \n",
    "        if item not in S:\n",
    "            return item\n",
    "            \n",
    "            break\n",
    "    \n",
    "print(smallest([0,-1,-90,1,2,3, 4,5,6,7,8,9,11]))   "
   ]
  },
  {
   "cell_type": "code",
   "execution_count": null,
   "metadata": {},
   "outputs": [],
   "source": []
  }
 ],
 "metadata": {
  "kernelspec": {
   "display_name": "Python 3",
   "language": "python",
   "name": "python3"
  },
  "language_info": {
   "codemirror_mode": {
    "name": "ipython",
    "version": 3
   },
   "file_extension": ".py",
   "mimetype": "text/x-python",
   "name": "python",
   "nbconvert_exporter": "python",
   "pygments_lexer": "ipython3",
   "version": "3.7.0"
  }
 },
 "nbformat": 4,
 "nbformat_minor": 2
}
